{
 "cells": [
  {
   "cell_type": "markdown",
   "metadata": {},
   "source": [
    "# Algorithms, Binary Search & Linked Lists"
   ]
  },
  {
   "cell_type": "markdown",
   "metadata": {},
   "source": [
    "## Tasks Today:\n",
    " \n",
    "1) <b>In-Place Algorithms</b> <br>\n",
    " &nbsp;&nbsp;&nbsp;&nbsp; a) Syntax <br>\n",
    " &nbsp;&nbsp;&nbsp;&nbsp; a) Out of Place Algorithm <br>\n",
    " &nbsp;&nbsp;&nbsp;&nbsp; b) In-Class Exercise #1 <br>\n",
    "2) <b>Two Pointers</b> <br>\n",
    "3) <b>Linked Lists</b> <br>\n",
    "4) <b>Merge Sort</b> <br>\n",
    " &nbsp;&nbsp;&nbsp;&nbsp; a) Video on Algorithms <br>\n",
    " &nbsp;&nbsp;&nbsp;&nbsp; b) How it Works <br>\n",
    "5) <b>Exercises</b> <br>\n",
    " &nbsp;&nbsp;&nbsp;&nbsp; a) Exercise #1 - Reverse a List in Place Using an In-Place Algorithm <br>\n",
    " &nbsp;&nbsp;&nbsp;&nbsp; b) Exercise #2 - Find Distinct Words <br>\n",
    " &nbsp;&nbsp;&nbsp;&nbsp; c) Exercise #3 - Write a program to implement a Linear Search Algorithm. <br>"
   ]
  },
  {
   "cell_type": "markdown",
   "metadata": {},
   "source": [
    "## In-Place Algorithms"
   ]
  },
  {
   "cell_type": "markdown",
   "metadata": {},
   "source": [
    "#### Syntax"
   ]
  },
  {
   "cell_type": "code",
   "execution_count": 26,
   "metadata": {},
   "outputs": [
    {
     "name": "stdout",
     "output_type": "stream",
     "text": [
      "[3, 9, 7, 5, 11]\n"
     ]
    }
   ],
   "source": [
    "#.sort() in place = in place gets changed\n",
    "#sorted out of place = makes a copy\n",
    "\n",
    "def swap(num,x,y):\n",
    "    temp = num[x]\n",
    "    num[x] = num[y]\n",
    "    num[y] = temp\n",
    "    \n",
    "listl = [3, 5, 7, 9, 11]\n",
    "swap(listl, 1, 3)\n",
    "print(listl)"
   ]
  },
  {
   "cell_type": "markdown",
   "metadata": {},
   "source": [
    "#### Out of Place Algorithm"
   ]
  },
  {
   "cell_type": "code",
   "execution_count": 27,
   "metadata": {},
   "outputs": [
    {
     "name": "stdout",
     "output_type": "stream",
     "text": [
      "[3, 9, 7, 5, 11]\n"
     ]
    }
   ],
   "source": [
    "def swapOut(nums,x,y):\n",
    "    copy = nums[:]\n",
    "    copy[x], copy[y] = copy[y], copy[x]\n",
    "    return copy\n",
    "\n",
    "myList = [3,5,7,9,11]\n",
    "output = swapOut(myList, 1, 3)\n",
    "print(output)"
   ]
  },
  {
   "cell_type": "markdown",
   "metadata": {},
   "source": [
    "#### In-Class Exercise #1 <br>\n",
    "<p>Write a function that takes in four arguments (list, index1, index2, index3), and swaps those three positions in the list passed in.</p>"
   ]
  },
  {
   "cell_type": "code",
   "execution_count": 43,
   "metadata": {},
   "outputs": [
    {
     "name": "stdout",
     "output_type": "stream",
     "text": [
      "[10, 4, 3, 8, 4, 2, 6]\n",
      "None\n"
     ]
    }
   ],
   "source": [
    "lists = [10, 4, 3, 8, 4, 2, 6]\n",
    "def swapped(lists, i1, i2, i3):\n",
    "        lists[i1], lists[i2], lists[i3] = lists[i2], lists[i3], lists[i1]\n",
    "print(lists)\n",
    "print(swapped(lists, 1,2,3))\n"
   ]
  },
  {
   "cell_type": "markdown",
   "metadata": {},
   "source": [
    "## Two Pointers"
   ]
  },
  {
   "cell_type": "markdown",
   "metadata": {},
   "source": [
    "#### Syntax"
   ]
  },
  {
   "cell_type": "code",
   "execution_count": 44,
   "metadata": {},
   "outputs": [
    {
     "name": "stdout",
     "output_type": "stream",
     "text": [
      "[6, 2, 4, 8, 3, 4, 10]\n"
     ]
    }
   ],
   "source": [
    "# use two pointers to swap(reverse this list)\n",
    "\n",
    "def twoPointer(alist):\n",
    "    #creating pointers\n",
    "    left = 0\n",
    "    right = len(alist)-1\n",
    "    while left < right:\n",
    "        alist[left], alist[right] = alist[right], alist[left]\n",
    "        left += 1\n",
    "        right -= 1\n",
    "        \n",
    "l_1 = [10, 4, 3, 8, 4, 2, 6]\n",
    "twoPointer(l_1)\n",
    "print(l_1)"
   ]
  },
  {
   "cell_type": "markdown",
   "metadata": {},
   "source": [
    "#### Video of Algorithms <br>\n",
    "<p>Watch the video about algorithms.</p>\n",
    "\n",
    "https://www.youtube.com/watch?v=Q9HjeFD62Uk\n",
    "\n",
    "https://www.youtube.com/watch?v=kPRA0W1kECg\n",
    "\n",
    "https://www.youtube.com/watch?v=ZZuD6iUe3Pc"
   ]
  },
  {
   "cell_type": "markdown",
   "metadata": {},
   "source": [
    "# Sorting Algorithms"
   ]
  },
  {
   "cell_type": "markdown",
   "metadata": {},
   "source": [
    "#### Bubble Sort\n",
    "\n",
    "Worst Case: O(n^2) Time - O(1) Space"
   ]
  },
  {
   "cell_type": "code",
   "execution_count": 121,
   "metadata": {},
   "outputs": [
    {
     "name": "stdout",
     "output_type": "stream",
     "text": [
      "5\n",
      "[1, 1, 1, 1, 1, 1, 1, 1, 1, 1, 2, 3, 4, 4, 6, 8, 10]\n"
     ]
    }
   ],
   "source": [
    "#iterate through the list\n",
    "#compare the current nukber and the one right to it\n",
    "#if necassary, swap\n",
    "#repeat process for however long it is\n",
    "def swap(nums,x,y):\n",
    "    nums[x], nums[y] = nums[y], nums[x]\n",
    "\n",
    "\n",
    "def bubbleSort(nums):\n",
    "    count = 0\n",
    "    for _ in nums:\n",
    "        isSorted = True\n",
    "        for i in range(len(nums)-1-count):\n",
    "            if nums [i] > nums [i+1]:\n",
    "                swap(nums, i, i+1)\n",
    "                isSorted = False\n",
    "        if isSorted:\n",
    "            break\n",
    "            \n",
    "            \n",
    "        count += 1\n",
    "    print(count)\n",
    "                \n",
    "l_1 = [1,1,1,1,1,1,1,1,1,1,10, 4, 3, 8, 4, 2, 6,]            \n",
    "bubbleSort(l_1)\n",
    "print(l_1)"
   ]
  },
  {
   "cell_type": "markdown",
   "metadata": {},
   "source": [
    "##### Insertion Sort\n",
    "\n",
    "Worst Case: O(n^2) time - O(1)space"
   ]
  },
  {
   "cell_type": "code",
   "execution_count": 147,
   "metadata": {},
   "outputs": [
    {
     "name": "stdout",
     "output_type": "stream",
     "text": [
      "[1, 2, 3, 4, 4, 6, 8, 10]\n"
     ]
    }
   ],
   "source": [
    "def swap(nums,x,y):\n",
    "    nums[x], nums[y] = nums[y], nums[x]\n",
    "\n",
    "def insertionSort(nums):\n",
    "    for i in range(1, len(nums)):\n",
    "        j=i #j is the item that needs to be moved/ currently working with\n",
    "        while j > 0 and nums[j] < nums[j-1]:\n",
    "            swap(nums, j, j-1)\n",
    "            j-=1\n",
    "l_1 = [1,10, 4, 3, 8, 4, 2, 6,]            \n",
    "         \n",
    "insertionSort(l_1)\n",
    "print(l_1)"
   ]
  },
  {
   "cell_type": "markdown",
   "metadata": {},
   "source": [
    "## Merge Sort"
   ]
  },
  {
   "cell_type": "markdown",
   "metadata": {},
   "source": [
    "#### How it Works"
   ]
  },
  {
   "cell_type": "code",
   "execution_count": 158,
   "metadata": {},
   "outputs": [
    {
     "name": "stdout",
     "output_type": "stream",
     "text": [
      "[1, 1, 1, 1, 1, 1, 1, 1, 1, 1, 2, 3, 4, 4, 6, 8, 10]\n"
     ]
    }
   ],
   "source": [
    "#never going to use this!\n",
    "#split into own groups\n",
    "#from l to r, merging groups\n",
    "#while merging place each item into correct position within the merged group\n",
    "#continue steps 3-4 until 1 group is left\n",
    "\n",
    "def mergeSort(nums):\n",
    "    #step 1\n",
    "    if len(nums) > 1:\n",
    "        mid = len(nums)//2\n",
    "        lefthalf = nums[:mid]\n",
    "        righthalf = nums[mid:]\n",
    "        #recursively call mergesort on each half\n",
    "        mergeSort(lefthalf)\n",
    "        mergeSort(righthalf)       \n",
    "        \n",
    "        #create index pointers for list\n",
    "        i=0 #left half\n",
    "        j=0 #right half\n",
    "        k=0 #main array\n",
    "        \n",
    "        #step 2\n",
    "        while i < len(lefthalf) and j < len(righthalf):\n",
    "            if lefthalf[i] < righthalf[j]:\n",
    "                nums[k] = lefthalf[i]\n",
    "                i+=1\n",
    "                k+=1\n",
    "            else:\n",
    "                nums[k] = righthalf[j]\n",
    "                j+=1\n",
    "                k+=1\n",
    "        #step 3\n",
    "        while i < len(lefthalf):\n",
    "            nums[k] = lefthalf[i]\n",
    "            i+=1\n",
    "            k+=1\n",
    "        while j < len(righthalf):\n",
    "            nums[k] = righthalf[j]\n",
    "            j+=1\n",
    "            k+=1\n",
    "            \n",
    "    return nums\n",
    "\n",
    "l_1 = [1,1,1,1,1,1,1,1,1,1,10, 4, 3, 8, 4, 2, 6,]            \n",
    "mergeSort(l_1)\n",
    "print(l_1)"
   ]
  },
  {
   "cell_type": "markdown",
   "metadata": {},
   "source": [
    "# Binary Search\n",
    "\n",
    "The Binary Search algorithm works by finding the number in the middle of a given array and comparing it to the target. Given that the array is sorted\n",
    "\n",
    "* The worst case run time for this algorithm is `O(log(n))`"
   ]
  },
  {
   "cell_type": "code",
   "execution_count": 232,
   "metadata": {},
   "outputs": [
    {
     "name": "stdout",
     "output_type": "stream",
     "text": [
      "[1, 2, 3, 4, 4, 6, 8, 10]\n"
     ]
    },
    {
     "data": {
      "text/plain": [
       "'Found 3 at index 2'"
      ]
     },
     "execution_count": 232,
     "metadata": {},
     "output_type": "execute_result"
    }
   ],
   "source": [
    "#list needs to be sorted!!!\n",
    "def binarySearch(array, target):\n",
    "    left = 0\n",
    "    right = len(array)\n",
    "    \n",
    "    while left <= right:\n",
    "        mid = (left + right)//2 \n",
    "        potentialMatch = array[mid]\n",
    "        if target == potentialMatch:\n",
    "            return f'Found {target} at index {mid}'\n",
    "        elif target < potentialMatch:\n",
    "            right = mid - 1\n",
    "        else:\n",
    "            left = mid + 1\n",
    "    return \"Not Found\"\n",
    "\n",
    "l_1 = [1,10, 4, 3, 8, 4, 2, 6,] \n",
    "mergeSort(l_1)\n",
    "print(l_1)\n",
    "binarySearch(l_1,3)"
   ]
  },
  {
   "cell_type": "markdown",
   "metadata": {},
   "source": [
    "# Exercises"
   ]
  },
  {
   "cell_type": "markdown",
   "metadata": {},
   "source": [
    "### Exercise #1 <br>\n",
    "<p>Reverse the list below in-place using an in-place algorithm.<br>For extra credit: Reverse the strings at the same time.</p>"
   ]
  },
  {
   "cell_type": "code",
   "execution_count": 374,
   "metadata": {},
   "outputs": [
    {
     "data": {
      "text/plain": [
       "['.', 'ecnetnes', 'a', 'si', 'siht']"
      ]
     },
     "execution_count": 374,
     "metadata": {},
     "output_type": "execute_result"
    }
   ],
   "source": [
    "words = ['this' , 'is', 'a', 'sentence', '.']\n",
    "\n",
    "def idontlikealgorithms(alist):\n",
    "    left = 0\n",
    "    right = len(alist)-1\n",
    "    while left <= right:\n",
    "        alist[left], alist[right] = alist[right][::-1], alist[left][::-1]\n",
    "        left += 1\n",
    "        right -= 1\n",
    "    return alist\n",
    "    \n",
    "idontlikealgorithms(words)"
   ]
  },
  {
   "cell_type": "markdown",
   "metadata": {},
   "source": [
    "### Exercise #2 <br>\n",
    "<p>Create a function that counts how many distinct words are in the string below, then outputs a dictionary with the words as the key and the value as the amount of times that word appears in the string.<br>Should output:<br>{'a': 5,<br>\n",
    " 'abstract': 1,<br>\n",
    " 'an': 3,<br>\n",
    " 'array': 2, ... etc...</p>"
   ]
  },
  {
   "cell_type": "code",
   "execution_count": 581,
   "metadata": {},
   "outputs": [
    {
     "data": {
      "text/plain": [
       "{'I': 1,\n",
       " 'n': 13,\n",
       " ' ': 52,\n",
       " 'c': 12,\n",
       " 'o': 12,\n",
       " 'm': 7,\n",
       " 'p': 6,\n",
       " 'u': 12,\n",
       " 't': 24,\n",
       " 'i': 11,\n",
       " 'g': 1,\n",
       " ',': 2,\n",
       " 'a': 32,\n",
       " 'h': 14,\n",
       " 's': 19,\n",
       " 'b': 5,\n",
       " 'l': 6,\n",
       " 'e': 19,\n",
       " 'd': 6,\n",
       " 'r': 12,\n",
       " 'w': 2,\n",
       " 'v': 3,\n",
       " 'y': 4,\n",
       " 'k': 2,\n",
       " '.': 1,\n",
       " 'A': 1,\n",
       " 'f': 4,\n",
       " 'x': 1}"
      ]
     },
     "execution_count": 581,
     "metadata": {},
     "output_type": "execute_result"
    }
   ],
   "source": [
    "a_text = 'In computing, a hash table hash map is a data structure which implements an associative array abstract data type, a structure that can map keys to values. A hash table uses a hash function to compute an index into an array of buckets or slots from which the desired value can be found'\n",
    "\n",
    "def unique(text):\n",
    "    word = text.split(\" \") #adding a space should split the string so the words are left intact but alas...\n",
    "    occurence = dict()\n",
    "    for words in text:\n",
    "        if words in occurence:\n",
    "            occurence[words] += 1\n",
    "        else:\n",
    "            occurence[words] = 1\n",
    "    return occurence\n",
    "\n",
    "unique(a_text)\n",
    "\n",
    "#this is a letter counter, word counter is apparently broke ... "
   ]
  },
  {
   "cell_type": "markdown",
   "metadata": {},
   "source": [
    "## Exercise #3\n",
    "\n",
    "Write a program to implement a Linear Search Algorithm. Also in a comment, write the Time Complexity of the following algorithm.\n",
    "\n",
    "#### Hint: Linear Searching will require searching a list for a given number. "
   ]
  },
  {
   "cell_type": "code",
   "execution_count": 571,
   "metadata": {},
   "outputs": [
    {
     "data": {
      "text/plain": [
       "'Your number is at position 1, bro.'"
      ]
     },
     "execution_count": 571,
     "metadata": {},
     "output_type": "execute_result"
    }
   ],
   "source": [
    "nums = [10, 23, 45, 70, 11, 15]\n",
    "# If number is not present return -1\n",
    "\n",
    "def linearS(alist, value):\n",
    "    for i in range(len(alist)):\n",
    "        if alist[i] == value:\n",
    "            return f\"Your number is at position {i}, bro.\"\n",
    "    return -1 and \"Your number ain't here!\"\n",
    "linearS(nums, 23)"
   ]
  },
  {
   "cell_type": "code",
   "execution_count": null,
   "metadata": {},
   "outputs": [],
   "source": []
  }
 ],
 "metadata": {
  "kernelspec": {
   "display_name": "Python 3 (ipykernel)",
   "language": "python",
   "name": "python3"
  },
  "language_info": {
   "codemirror_mode": {
    "name": "ipython",
    "version": 3
   },
   "file_extension": ".py",
   "mimetype": "text/x-python",
   "name": "python",
   "nbconvert_exporter": "python",
   "pygments_lexer": "ipython3",
   "version": "3.9.7"
  }
 },
 "nbformat": 4,
 "nbformat_minor": 2
}
